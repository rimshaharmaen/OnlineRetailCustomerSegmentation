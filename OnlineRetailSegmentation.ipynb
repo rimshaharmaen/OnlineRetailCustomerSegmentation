{
  "nbformat": 4,
  "nbformat_minor": 0,
  "metadata": {
    "colab": {
      "private_outputs": true,
      "provenance": [],
      "collapsed_sections": [
        "vncDsAP0Gaoa",
        "FJNUwmbgGyua",
        "w6K7xa23Elo4",
        "yQaldy8SH6Dl",
        "mDgbUHAGgjLW",
        "QHF8YVU7Yuh3",
        "GwzvFGzlYuh3",
        "qYpmQ266Yuh3",
        "bbFf2-_FphqN",
        "_ouA3fa0phqN",
        "Seke61FWphqN",
        "t27r6nlMphqO",
        "r2jJGEOYphqO",
        "b0JNsNcRphqO",
        "jj7wYXLtphqO",
        "eZrbJ2SmphqO",
        "rFu4xreNphqO",
        "gCFgpxoyphqP",
        "OVtJsKN_phqQ",
        "lssrdh5qphqQ",
        "1M8mcRywphqQ",
        "tgIPom80phqQ",
        "JMzcOPDDphqR",
        "X_VqEhTip1ck",
        "8zGJKyg5p1ck",
        "PVzmfK_Ep1ck",
        "ylSl6qgtp1ck",
        "ZWILFDl5p1ck",
        "M7G43BXep1ck",
        "2cELzS2fp1cl",
        "3MPXvC8up1cl",
        "YPEH6qLeZNRQ",
        "-Kee-DAl2viO",
        "gIfDvo9L0UH2"
      ],
      "include_colab_link": true
    },
    "kernelspec": {
      "name": "python3",
      "display_name": "Python 3"
    },
    "language_info": {
      "name": "python"
    }
  },
  "cells": [
    {
      "cell_type": "markdown",
      "metadata": {
        "id": "view-in-github",
        "colab_type": "text"
      },
      "source": [
        "<a href=\"https://colab.research.google.com/github/rimshaharmaen/OnlineRetailCustomerSegmentation/blob/main/OnlineRetailSegmentation.ipynb\" target=\"_parent\"><img src=\"https://colab.research.google.com/assets/colab-badge.svg\" alt=\"Open In Colab\"/></a>"
      ]
    },
    {
      "cell_type": "markdown",
      "source": [
        "# **Project Name**    -\n",
        "\n"
      ],
      "metadata": {
        "id": "vncDsAP0Gaoa"
      }
    },
    {
      "cell_type": "markdown",
      "source": [
        "##### **Project Type**    - Unsupervised\n",
        "\n",
        "*   List item\n",
        "*   List item\n",
        "\n",
        "\n",
        "##### **Contribution**    - Team\n",
        "##### **Team Member 1 -RIMSHA HARMAEN**\n",
        "##### **Team Member 2 -ADEEBA**\n"
      ],
      "metadata": {
        "id": "beRrZCGUAJYm"
      }
    },
    {
      "cell_type": "markdown",
      "source": [
        "# **Project Summary -**"
      ],
      "metadata": {
        "id": "FJNUwmbgGyua"
      }
    },
    {
      "cell_type": "markdown",
      "source": [
        "Write the summary here within 500-600 words."
      ],
      "metadata": {
        "id": "F6v_1wHtG2nS"
      }
    },
    {
      "cell_type": "markdown",
      "source": [
        "# **GitHub Link -**"
      ],
      "metadata": {
        "id": "w6K7xa23Elo4"
      }
    },
    {
      "cell_type": "markdown",
      "source": [
        "Provide your GitHub Link here."
      ],
      "metadata": {
        "id": "h1o69JH3Eqqn"
      }
    },
    {
      "cell_type": "markdown",
      "source": [
        "# **Problem Statement**\n"
      ],
      "metadata": {
        "id": "yQaldy8SH6Dl"
      }
    },
    {
      "cell_type": "markdown",
      "source": [
        "**Write Problem Statement Here.**"
      ],
      "metadata": {
        "id": "DpeJGUA3kjGy"
      }
    },
    {
      "cell_type": "markdown",
      "source": [
        "# **General Guidelines** : -  "
      ],
      "metadata": {
        "id": "mDgbUHAGgjLW"
      }
    },
    {
      "cell_type": "markdown",
      "source": [
        "1.   Well-structured, formatted, and commented code is required.\n",
        "2.   Exception Handling, Production Grade Code & Deployment Ready Code will be a plus. Those students will be awarded some additional credits.\n",
        "     \n",
        "     The additional credits will have advantages over other students during Star Student selection.\n",
        "       \n",
        "             [ Note: - Deployment Ready Code is defined as, the whole .ipynb notebook should be executable in one go\n",
        "                       without a single error logged. ]\n",
        "\n",
        "3.   Each and every logic should have proper comments.\n",
        "4. You may add as many number of charts you want. Make Sure for each and every chart the following format should be answered.\n",
        "        \n",
        "\n",
        "```\n",
        "# Chart visualization code\n",
        "```\n",
        "            \n",
        "\n",
        "*   Why did you pick the specific chart?\n",
        "*   What is/are the insight(s) found from the chart?\n",
        "* Will the gained insights help creating a positive business impact?\n",
        "Are there any insights that lead to negative growth? Justify with specific reason.\n",
        "\n",
        "5. You have to create at least 15 logical & meaningful charts having important insights.\n",
        "\n",
        "\n",
        "[ Hints : - Do the Vizualization in  a structured way while following \"UBM\" Rule.\n",
        "\n",
        "U - Univariate Analysis,\n",
        "\n",
        "B - Bivariate Analysis (Numerical - Categorical, Numerical - Numerical, Categorical - Categorical)\n",
        "\n",
        "M - Multivariate Analysis\n",
        " ]\n",
        "\n",
        "\n",
        "\n",
        "\n",
        "\n",
        "6. You may add more ml algorithms for model creation. Make sure for each and every algorithm, the following format should be answered.\n",
        "\n",
        "\n",
        "*   Explain the ML Model used and it's performance using Evaluation metric Score Chart.\n",
        "\n",
        "\n",
        "*   Cross- Validation & Hyperparameter Tuning\n",
        "\n",
        "*   Have you seen any improvement? Note down the improvement with updates Evaluation metric Score Chart.\n",
        "\n",
        "*   Explain each evaluation metric's indication towards business and the business impact pf the ML model used.\n",
        "\n",
        "\n",
        "\n",
        "\n",
        "\n",
        "\n",
        "\n",
        "\n",
        "\n",
        "\n",
        "\n",
        "\n",
        "\n",
        "\n",
        "\n",
        "\n",
        "\n",
        "\n"
      ],
      "metadata": {
        "id": "ZrxVaUj-hHfC"
      }
    },
    {
      "cell_type": "markdown",
      "source": [
        "# ***Let's Begin !***"
      ],
      "metadata": {
        "id": "O_i_v8NEhb9l"
      }
    },
    {
      "cell_type": "markdown",
      "source": [
        "## ***1. Know Your Data***"
      ],
      "metadata": {
        "id": "HhfV-JJviCcP"
      }
    },
    {
      "cell_type": "markdown",
      "source": [
        "### Import Libraries"
      ],
      "metadata": {
        "id": "Y3lxredqlCYt"
      }
    },
    {
      "cell_type": "code",
      "execution_count": null,
      "metadata": {
        "id": "HA5Aq0Hmx7eP"
      },
      "outputs": [],
      "source": [
        "# Import Libraries\n",
        "import numpy as np\n",
        "import pandas as pd\n",
        "import seaborn as sns\n",
        "import matplotlib.pyplot as plt\n",
        "from numpy import count_nonzero\n",
        "\n",
        "from sklearn.model_selection import train_test_split\n",
        "from sklearn.linear_model import LinearRegression\n",
        "from sklearn.metrics import mean_squared_error\n",
        "from sklearn.metrics import r2_score\n",
        "import warnings\n",
        "warnings.filterwarnings('ignore')\n",
        "from sklearn.linear_model import Ridge, RidgeCV, Lasso, LassoCV\n",
        "from sklearn.preprocessing import StandardScaler\n",
        "from sklearn.model_selection import cross_val_score\n",
        "from sklearn.model_selection import GridSearchCV\n",
        "from sklearn.linear_model import ElasticNet"
      ]
    },
    {
      "cell_type": "markdown",
      "source": [
        "### Dataset Loading"
      ],
      "metadata": {
        "id": "3RnN4peoiCZX"
      }
    },
    {
      "cell_type": "code",
      "source": [
        "# Load Dataset\n",
        "from google.colab import drive\n",
        "drive.mount('/content/drive')\n"
      ],
      "metadata": {
        "id": "4CkvbW_SlZ_R"
      },
      "execution_count": null,
      "outputs": []
    },
    {
      "cell_type": "code",
      "source": [
        "Path = '/content/drive/MyDrive/Capstone Project-Online Retail Customer Segmentation/Online Retail.xlsx'\n",
        "customer_data_df = pd.read_excel(Path)"
      ],
      "metadata": {
        "id": "c7EHOtsolo5V"
      },
      "execution_count": null,
      "outputs": []
    },
    {
      "cell_type": "markdown",
      "source": [
        "### Dataset First View"
      ],
      "metadata": {
        "id": "x71ZqKXriCWQ"
      }
    },
    {
      "cell_type": "code",
      "source": [
        "# Dataset First Look\n",
        "customer_data_df.head()"
      ],
      "metadata": {
        "id": "LWNFOSvLl09H"
      },
      "execution_count": null,
      "outputs": []
    },
    {
      "cell_type": "code",
      "source": [
        "customer_data_df.tail()"
      ],
      "metadata": {
        "id": "tDX8BM7YzWIa"
      },
      "execution_count": null,
      "outputs": []
    },
    {
      "cell_type": "markdown",
      "source": [
        "### Dataset Rows & Columns count"
      ],
      "metadata": {
        "id": "7hBIi_osiCS2"
      }
    },
    {
      "cell_type": "code",
      "source": [
        "# Dataset Rows & Columns count\n",
        "customer_data_df.shape"
      ],
      "metadata": {
        "id": "Kllu7SJgmLij"
      },
      "execution_count": null,
      "outputs": []
    },
    {
      "cell_type": "markdown",
      "source": [
        "### Dataset Information"
      ],
      "metadata": {
        "id": "JlHwYmJAmNHm"
      }
    },
    {
      "cell_type": "code",
      "source": [
        "# Dataset Info\n",
        "customer_data_df.info()"
      ],
      "metadata": {
        "id": "e9hRXRi6meOf"
      },
      "execution_count": null,
      "outputs": []
    },
    {
      "cell_type": "markdown",
      "source": [
        "#### Duplicate Values"
      ],
      "metadata": {
        "id": "35m5QtbWiB9F"
      }
    },
    {
      "cell_type": "code",
      "source": [
        "# Dataset Duplicate Value Count\n",
        "customer_data_df.duplicated().sum()"
      ],
      "metadata": {
        "id": "1sLdpKYkmox0"
      },
      "execution_count": null,
      "outputs": []
    },
    {
      "cell_type": "markdown",
      "source": [
        "#### Missing Values/Null Values"
      ],
      "metadata": {
        "id": "PoPl-ycgm1ru"
      }
    },
    {
      "cell_type": "code",
      "source": [
        "# Missing Values/Null Values Count\n",
        "customer_data_df.isnull().sum()"
      ],
      "metadata": {
        "id": "GgHWkxvamxVg"
      },
      "execution_count": null,
      "outputs": []
    },
    {
      "cell_type": "code",
      "source": [
        "customer_data_df.dropna(inplace=True)"
      ],
      "metadata": {
        "id": "3q5wnI3om9sJ"
      },
      "execution_count": null,
      "outputs": []
    },
    {
      "cell_type": "code",
      "source": [
        "customer_data_df.isnull().sum()"
      ],
      "metadata": {
        "id": "YlK9E8QA0YZl"
      },
      "execution_count": null,
      "outputs": []
    },
    {
      "cell_type": "markdown",
      "source": [
        "## ***2. Understanding Your Variables***"
      ],
      "metadata": {
        "id": "nA9Y7ga8ng1Z"
      }
    },
    {
      "cell_type": "code",
      "source": [
        "# Dataset Columns\n",
        "customer_data_df.columns.values.tolist()"
      ],
      "metadata": {
        "id": "j7xfkqrt5Ag5"
      },
      "execution_count": null,
      "outputs": []
    },
    {
      "cell_type": "code",
      "source": [
        "# Dataset Describe\n",
        "customer_data_df.describe()"
      ],
      "metadata": {
        "id": "DnOaZdaE5Q5t"
      },
      "execution_count": null,
      "outputs": []
    },
    {
      "cell_type": "markdown",
      "source": [
        "### Variables Description"
      ],
      "metadata": {
        "id": "PBTbrJXOngz2"
      }
    },
    {
      "cell_type": "markdown",
      "source": [
        "1. InvoiceNo: A number assigned to each transaction\n",
        "2. StockCode : Product code\n",
        "3. Description : Product name\n",
        "4. Quantity : Number of products purchased for each transaction\n",
        "5. InvoiceDate : Timestamp for each transaction\n",
        "6. UnitPrice : Product price per unit\n",
        "7. CustomerID : Unique identifier each customer\n",
        "8. Country : Country name\n",
        "\n",
        "\n",
        "\n"
      ],
      "metadata": {
        "id": "aJV4KIxSnxay"
      }
    },
    {
      "cell_type": "markdown",
      "source": [
        "### Check Unique Values for each variable."
      ],
      "metadata": {
        "id": "u3PMJOP6ngxN"
      }
    },
    {
      "cell_type": "code",
      "source": [
        "# Check Unique Values for description\n",
        "customer_data_df.nunique()\n"
      ],
      "metadata": {
        "id": "zms12Yq5n-jE"
      },
      "execution_count": null,
      "outputs": []
    },
    {
      "cell_type": "markdown",
      "source": [
        "## 3. ***Data Wrangling***"
      ],
      "metadata": {
        "id": "dauF4eBmngu3"
      }
    },
    {
      "cell_type": "markdown",
      "source": [
        "### Data Wrangling Code"
      ],
      "metadata": {
        "id": "bKJF3rekwFvQ"
      }
    },
    {
      "cell_type": "code",
      "source": [
        "# Converting in to date time format\n",
        "customer_data_df['InvoiceDate'] = pd.to_datetime(customer_data_df['InvoiceDate'], format='%Y-%M-%D %H:%M:%S')"
      ],
      "metadata": {
        "id": "wk-9a2fpoLcV"
      },
      "execution_count": null,
      "outputs": []
    },
    {
      "cell_type": "code",
      "source": [
        "customer_data_df['Day'] = customer_data_df['InvoiceDate'].dt.day_name()\n",
        "customer_data_df['Year'] = customer_data_df['InvoiceDate'].apply(lambda x: x.year)\n",
        "\n",
        "customer_data_df['Monthname'] = customer_data_df['InvoiceDate'].dt.month_name()\n",
        "customer_data_df['day_number'] = customer_data_df['InvoiceDate'].apply(lambda x: x.day)\n",
        "customer_data_df['Hour'] = customer_data_df['InvoiceDate'].apply(lambda x: x.hour)\n",
        "customer_data_df['Minute'] = customer_data_df['InvoiceDate'].apply(lambda x: x.minute)"
      ],
      "metadata": {
        "id": "BObgSu6EZuxx"
      },
      "execution_count": null,
      "outputs": []
    },
    {
      "cell_type": "code",
      "source": [
        "# Convert 'InvoiceNo' column to strings\n",
        "customer_data_df['InvoiceNo'] = customer_data_df['InvoiceNo'].astype(str)\n",
        "\n",
        "# Remove rows where 'InvoiceNo' starts with 'C'\n",
        "customer_data_df = customer_data_df[~customer_data_df['InvoiceNo'].str.startswith('C', na=False)]\n"
      ],
      "metadata": {
        "id": "QFbNEIm84XBP"
      },
      "execution_count": null,
      "outputs": []
    },
    {
      "cell_type": "markdown",
      "source": [
        "## ***4. Data Vizualization, Storytelling & Experimenting with charts : Understand the relationships between variables***"
      ],
      "metadata": {
        "id": "GF8Ens_Soomf"
      }
    },
    {
      "cell_type": "markdown",
      "source": [
        "#### Chart - 1"
      ],
      "metadata": {
        "id": "0wOQAZs5pc--"
      }
    },
    {
      "cell_type": "code",
      "source": [
        "# Chart 1 - Top and bottom 5 products ordered\n",
        "\n",
        "top_5_product = customer_data_df['Description'].value_counts().reset_index()\n",
        "top_5_product.head()"
      ],
      "metadata": {
        "id": "7v_ESjsspbW7"
      },
      "execution_count": null,
      "outputs": []
    },
    {
      "cell_type": "code",
      "source": [
        "top_5_product.tail()"
      ],
      "metadata": {
        "id": "FAcPRiHhyWFD"
      },
      "execution_count": null,
      "outputs": []
    },
    {
      "cell_type": "code",
      "source": [
        "plt.figure(figsize=(8,5))\n",
        "sns.barplot(x='index', y='Description', data=top_5_product[ :5], width=0.4)\n",
        "plt.xticks(rotation='vertical')\n",
        "plt.title('Top 5 product')\n",
        "plt.xlabel('Description')\n",
        "plt.ylabel('Counts')\n",
        "plt.show()\n"
      ],
      "metadata": {
        "id": "Sp2m5mrXjjgX"
      },
      "execution_count": null,
      "outputs": []
    },
    {
      "cell_type": "code",
      "source": [
        "\n",
        "plt.figure(figsize=(8,5))\n",
        "sns.barplot(x='index', y='Description', data=top_5_product[-5: ], width=0.4)\n",
        "plt.xticks(rotation='vertical')\n",
        "plt.title('Last 5 product')\n",
        "plt.xlabel('Description')\n",
        "plt.ylabel('Counts')\n",
        "plt.show()"
      ],
      "metadata": {
        "id": "JUxY3XTP7agG"
      },
      "execution_count": null,
      "outputs": []
    },
    {
      "cell_type": "markdown",
      "source": [
        "##### 1. Why did you pick the specific chart?\n"
      ],
      "metadata": {
        "id": "K5QZ13OEpz2H"
      }
    },
    {
      "cell_type": "markdown",
      "source": [
        "**Bar Chart is used to view product categories**\n"
      ],
      "metadata": {
        "id": "XESiWehPqBRc"
      }
    },
    {
      "cell_type": "markdown",
      "source": [
        "##### 2. What is/are the insight(s) found from the chart?"
      ],
      "metadata": {
        "id": "lQ7QKXXCp7Bj"
      }
    },
    {
      "cell_type": "markdown",
      "source": [
        "**In the above chart, x axis represents description of the product and y axis represent the counts of the product ordered. From top 5 product, White Hanging Heart T-light holder product has been ordered most by cutomers and from last 5 product, Antique Raspberry Flower Earrings are ordered least with other products.**"
      ],
      "metadata": {
        "id": "C_j1G7yiqdRP"
      }
    },
    {
      "cell_type": "markdown",
      "source": [
        "#### Chart - 2"
      ],
      "metadata": {
        "id": "KSlN3yHqYklG"
      }
    },
    {
      "cell_type": "code",
      "source": [
        "# Chart 2 - Top 5 products according to Quantity\n",
        "\n",
        "top_5_pro_qty = customer_data_df.groupby('Description')['Quantity'].sum().reset_index()\n",
        "top_5_pro_qty = top_5_pro_qty.sort_values(by='Quantity',ascending=False ,ignore_index=True)\n",
        "top_5_pro_qty.head()"
      ],
      "metadata": {
        "id": "R4YgtaqtYklH"
      },
      "execution_count": null,
      "outputs": []
    },
    {
      "cell_type": "code",
      "source": [
        "top_5_pro_qty.tail()"
      ],
      "metadata": {
        "id": "CrDSrTSh4N4Z"
      },
      "execution_count": null,
      "outputs": []
    },
    {
      "cell_type": "code",
      "source": [
        "plt.figure(figsize=(8,5))\n",
        "sns.barplot(x='Description', y='Quantity', data=top_5_pro_qty[ :5], width=0.4)\n",
        "plt.xticks(rotation='vertical')\n",
        "plt.title('Top 5 product')\n",
        "plt.xlabel('Description')\n",
        "plt.ylabel('Counts')\n",
        "plt.show()\n"
      ],
      "metadata": {
        "id": "g7vDUu0E65Cm"
      },
      "execution_count": null,
      "outputs": []
    },
    {
      "cell_type": "code",
      "source": [
        "\n",
        "plt.figure(figsize=(8,5))\n",
        "sns.barplot(x='Description', y='Quantity', data=top_5_pro_qty[-5: ], width=0.4)\n",
        "plt.xticks(rotation='vertical')\n",
        "plt.title('Last 5 product')\n",
        "plt.xlabel('Description')\n",
        "plt.ylabel('Counts')\n",
        "plt.show()"
      ],
      "metadata": {
        "id": "8QjDql9P7gaW"
      },
      "execution_count": null,
      "outputs": []
    },
    {
      "cell_type": "markdown",
      "source": [
        "##### 1. Why did you pick the specific chart?"
      ],
      "metadata": {
        "id": "t6dVpIINYklI"
      }
    },
    {
      "cell_type": "markdown",
      "source": [
        "**Bar Chart is used to view product categories sorted by its quantities**"
      ],
      "metadata": {
        "id": "5aaW0BYyYklI"
      }
    },
    {
      "cell_type": "markdown",
      "source": [
        "##### 2. What is/are the insight(s) found from the chart?"
      ],
      "metadata": {
        "id": "ijmpgYnKYklI"
      }
    },
    {
      "cell_type": "markdown",
      "source": [
        "**In the above chart, x axis represents description of the product and y axis represent the counts of the product ordered. From top 5 product, Paper Craft Little Birdie product has been ordered most by cutomers and from last 5 product, Black Vint Art Dec Crystal Bracelet are ordered least with other products.**"
      ],
      "metadata": {
        "id": "PSx9atu2YklI"
      }
    },
    {
      "cell_type": "markdown",
      "source": [
        "#### Chart - 3"
      ],
      "metadata": {
        "id": "EM7whBJCYoAo"
      }
    },
    {
      "cell_type": "code",
      "source": [
        "# Chart 3 - At what hour of the day has orders occurred most ?\n",
        "\n",
        "def timecategory(time):\n",
        "  if(time==6 or time==7 or time==8 or time==9 or time==10 or time==11):\n",
        "    return 'Morning'\n",
        "  elif(time==12 or time==13 or time==14 or time==16 or time==17):\n",
        "    return 'Afternoon'\n",
        "  else:\n",
        "    return 'Evening'\n"
      ],
      "metadata": {
        "id": "t6GMdE67YoAp"
      },
      "execution_count": null,
      "outputs": []
    },
    {
      "cell_type": "code",
      "source": [
        "customer_data_df['timecategory'] = customer_data_df['Hour'].apply(timecategory)\n"
      ],
      "metadata": {
        "id": "ogz0qjCsYxA-"
      },
      "execution_count": null,
      "outputs": []
    },
    {
      "cell_type": "code",
      "source": [
        "customer_data_df.groupby(['timecategory']).sum().plot(kind='pie', y='Hour', autopct='%1.1f%%')\n"
      ],
      "metadata": {
        "id": "AuoIIGwCaQpk"
      },
      "execution_count": null,
      "outputs": []
    },
    {
      "cell_type": "markdown",
      "source": [
        "##### 1. Why did you pick the specific chart?"
      ],
      "metadata": {
        "id": "fge-S5ZAYoAp"
      }
    },
    {
      "cell_type": "markdown",
      "source": [
        "**Pie chart is used to show the contribution of three categories in percentage**\n"
      ],
      "metadata": {
        "id": "5dBItgRVYoAp"
      }
    },
    {
      "cell_type": "markdown",
      "source": [
        "##### 2. What is/are the insight(s) found from the chart?"
      ],
      "metadata": {
        "id": "85gYPyotYoAp"
      }
    },
    {
      "cell_type": "markdown",
      "source": [
        "**In the above pie chart, customers order their products mostly in afternoon followed by morning and evening**"
      ],
      "metadata": {
        "id": "4jstXR6OYoAp"
      }
    },
    {
      "cell_type": "markdown",
      "source": [
        "#### Chart - 4"
      ],
      "metadata": {
        "id": "4Of9eVA-YrdM"
      }
    },
    {
      "cell_type": "code",
      "source": [
        "# Chart 4 - Which month recorded highest sales ?\n",
        "\n",
        "Highest_sales_month = customer_data_df['Monthname'].value_counts().reset_index()\n",
        "Highest_sales_month"
      ],
      "metadata": {
        "id": "irlUoxc8YrdO"
      },
      "execution_count": null,
      "outputs": []
    },
    {
      "cell_type": "code",
      "source": [
        "plt.figure(figsize=(13,5))\n",
        "sns.barplot(x='index', y='Monthname', data=Highest_sales_month, width=0.4)\n",
        "\n",
        "plt.title('Month recorded highest sales')\n",
        "plt.xlabel('Month')\n",
        "plt.ylabel('Counts')\n",
        "plt.show()\n",
        "\n"
      ],
      "metadata": {
        "id": "utQBfLzhaKq1"
      },
      "execution_count": null,
      "outputs": []
    },
    {
      "cell_type": "markdown",
      "source": [
        "##### 1. Why did you pick the specific chart?"
      ],
      "metadata": {
        "id": "iky9q4vBYrdO"
      }
    },
    {
      "cell_type": "markdown",
      "source": [
        "**Bar Chart is used here to view the month which has recorded highest sales**"
      ],
      "metadata": {
        "id": "aJRCwT6DYrdO"
      }
    },
    {
      "cell_type": "markdown",
      "source": [
        "##### 2. What is/are the insight(s) found from the chart?"
      ],
      "metadata": {
        "id": "F6T5p64dYrdO"
      }
    },
    {
      "cell_type": "markdown",
      "source": [
        "**In the above bar chart, x axis represents the month name and y axis represents the counts of the orders. The 4th quarter of the months i.e 'Oct,Nov,Dec' has recorded highest sales followed by September and 1st quarter i.e 'Jan and Feb' has recorded lowest sales.**"
      ],
      "metadata": {
        "id": "Xx8WAJvtYrdO"
      }
    },
    {
      "cell_type": "markdown",
      "source": [
        "#### Chart - 5"
      ],
      "metadata": {
        "id": "bamQiAODYuh1"
      }
    },
    {
      "cell_type": "code",
      "source": [
        "# Chart - 5 visualization code\n",
        "top_countries = customer_data_df['Country'].value_counts().nlargest(10)\n",
        "total_purchases = customer_data_df['Country'].count()\n",
        "country_percentages = (top_countries / total_purchases) * 100\n",
        "\n",
        "country_summary = pd.DataFrame({\n",
        "    'Country': top_countries.index,\n",
        "    'Count': top_countries.values,\n",
        "    'Percentage': country_percentages.values\n",
        "})\n",
        "\n",
        "print(country_summary)\n"
      ],
      "metadata": {
        "id": "TIJwrbroYuh3"
      },
      "execution_count": null,
      "outputs": []
    },
    {
      "cell_type": "code",
      "source": [
        "plt.figure(figsize=(10, 6))\n",
        "sns.barplot(x='Country', y='Count', data=country_summary)\n",
        "plt.title('Top 10 Countries by Purchase Counts')\n",
        "plt.xlabel('Country')\n",
        "plt.ylabel('Purchase Count')\n",
        "plt.xticks(rotation=45)\n",
        "plt.show()\n"
      ],
      "metadata": {
        "id": "tKRJHdWYGr8W"
      },
      "execution_count": null,
      "outputs": []
    },
    {
      "cell_type": "markdown",
      "source": [
        "#### Chart - 6"
      ],
      "metadata": {
        "id": "OH-pJp9IphqM"
      }
    },
    {
      "cell_type": "code",
      "source": [
        "# Chart - 6 visualization code\n",
        "orders_per_customer = customer_data_df.groupby('CustomerID')['InvoiceNo'].nunique()\n",
        "plt.figure(figsize=(10, 6))\n",
        "sns.histplot(orders_per_customer, bins=30, kde=True)\n",
        "plt.title('Distribution of Orders per Customer')\n",
        "plt.xlabel('Number of Orders')\n",
        "plt.ylabel('Number of Customers')\n",
        "plt.show()"
      ],
      "metadata": {
        "id": "kuRf4wtuphqN"
      },
      "execution_count": null,
      "outputs": []
    },
    {
      "cell_type": "code",
      "source": [
        "orders_per_customer = customer_data_df.groupby('CustomerID')['InvoiceNo'].nunique()\n",
        "plt.figure(figsize=(10, 6))\n",
        "sns.histplot(orders_per_customer, bins=30, kde=True)\n",
        "plt.title('Distribution of Orders per Customer')\n",
        "plt.xlabel('Number of Orders')\n",
        "plt.ylabel('Number of Customers')\n",
        "\n",
        "# Set the x-axis limits to focus on a specific range\n",
        "plt.xlim(0, 10)  # Adjust the limits as needed\n",
        "\n",
        "plt.show()"
      ],
      "metadata": {
        "id": "82iz13w8G_m0"
      },
      "execution_count": null,
      "outputs": []
    },
    {
      "cell_type": "markdown",
      "source": [
        "#### Chart - 7"
      ],
      "metadata": {
        "id": "PIIx-8_IphqN"
      }
    },
    {
      "cell_type": "code",
      "source": [
        "# Chart - 7 visualization code\n",
        "customer_data_df['InvoiceDate'] = pd.to_datetime(customer_data_df['InvoiceDate'])\n",
        "customer_data_df['DayOfWeek'] = customer_data_df['InvoiceDate'].dt.day_name()\n",
        "plt.figure(figsize=(10, 6))\n",
        "sns.countplot(data=customer_data_df, x='DayOfWeek', order=customer_data_df['DayOfWeek'].value_counts().index)\n",
        "plt.title('Distribution of Purchases by Day of Week')\n",
        "plt.xlabel('Day of Week')\n",
        "plt.ylabel('Purchase Count')\n",
        "plt.xticks(rotation=45)\n",
        "plt.show()"
      ],
      "metadata": {
        "id": "lqAIGUfyphqO"
      },
      "execution_count": null,
      "outputs": []
    },
    {
      "cell_type": "markdown",
      "source": [
        "#### Chart - 8"
      ],
      "metadata": {
        "id": "BZR9WyysphqO"
      }
    },
    {
      "cell_type": "code",
      "source": [
        "# Chart - 8 visualization code\n",
        "plt.figure(figsize=(10, 6))\n",
        "sns.boxplot(data=customer_data_df, y='UnitPrice')\n",
        "plt.title('Distribution of UnitPrice')\n",
        "plt.ylabel('UnitPrice')\n",
        "plt.show()\n"
      ],
      "metadata": {
        "id": "TdPTWpAVphqO"
      },
      "execution_count": null,
      "outputs": []
    },
    {
      "cell_type": "markdown",
      "source": [
        "#### Chart - 9"
      ],
      "metadata": {
        "id": "YJ55k-q6phqO"
      }
    },
    {
      "cell_type": "code",
      "source": [
        "# Chart - 9 visualization code\n",
        "# Add a new column for total cost\n",
        "customer_data_df['TotalCost'] = customer_data_df['Quantity'] * customer_data_df['UnitPrice']\n",
        "\n",
        "# Group the data by country and sum the total cost\n",
        "country_revenue = customer_data_df.groupby('Country')['TotalCost'].sum().reset_index()\n",
        "\n",
        "# Sort the countries by revenue and get the top 10 with highest revenue\n",
        "highest_revenue = country_revenue.sort_values('TotalCost', ascending=False).head(5)\n",
        "# Print the top 10 countries with highest revenue\n",
        "print(highest_revenue)\n"
      ],
      "metadata": {
        "id": "B2aS4O1ophqO"
      },
      "execution_count": null,
      "outputs": []
    },
    {
      "cell_type": "code",
      "source": [
        "plt.figure(figsize=(8, 8))\n",
        "plt.pie(highest_revenue['TotalCost'], labels=highest_revenue['Country'], autopct='%1.1f%%', startangle=140)\n",
        "plt.title('Top 5 Countries by Revenue Percentage')\n",
        "plt.axis('equal')\n",
        "plt.show()"
      ],
      "metadata": {
        "id": "uB6RonABHSBz"
      },
      "execution_count": null,
      "outputs": []
    },
    {
      "cell_type": "markdown",
      "source": [
        "#### Chart - 10"
      ],
      "metadata": {
        "id": "U2RJ9gkRphqQ"
      }
    },
    {
      "cell_type": "code",
      "source": [
        "# Chart - 10 visualization code\n",
        "# Add a new column for total cost\n",
        "customer_data_df['TotalCost'] = customer_data_df['Quantity'] * customer_data_df['UnitPrice']\n",
        "\n",
        "# Group the data by country and sum the total cost\n",
        "country_revenue = customer_data_df.groupby('Country')['TotalCost'].sum().reset_index()\n",
        "\n",
        "# Sort the countries by revenue and get the top 10 with lowest revenue\n",
        "lowest_revenue = country_revenue.sort_values('TotalCost').head(10)\n",
        "# Print the top 10 countries with highest revenue\n",
        "print(lowest_revenue)"
      ],
      "metadata": {
        "id": "GM7a4YP4phqQ"
      },
      "execution_count": null,
      "outputs": []
    },
    {
      "cell_type": "code",
      "source": [
        "# Create a horizontal bar plot with seaborn\n",
        "plt.figure(figsize=(10,6))\n",
        "ax = sns.barplot(x='TotalCost', y='Country', data=lowest_revenue, palette='rocket_r')\n",
        "# Set the title and axis labels\n",
        "ax.set_title('Top 10 Countries by Lowest Revenue')\n",
        "ax.set_xlabel('Revenue')\n",
        "ax.set_ylabel('Country Name')\n",
        "# Show the plot\n",
        "plt.show()"
      ],
      "metadata": {
        "id": "4vt9iOFBHZ47"
      },
      "execution_count": null,
      "outputs": []
    },
    {
      "cell_type": "markdown",
      "source": [
        "#### Chart - 11"
      ],
      "metadata": {
        "id": "x-EpHcCOp1ci"
      }
    },
    {
      "cell_type": "code",
      "source": [
        "# Chart - 11 visualization code\n",
        "# Filter the data for sales in the United Kingdom\n",
        "uk_sales = customer_data_df[customer_data_df['Country'] == 'United Kingdom']\n",
        "\n",
        "# Group the data by product description and sum the quantity sold\n",
        "product_sales = uk_sales.groupby('Description')['Quantity'].sum().reset_index()\n",
        "\n",
        "# Sort the products by sales and get the top 5\n",
        "top_products = product_sales.sort_values('Quantity', ascending=False).head(5)\n",
        "\n",
        "# Create a pie chart with matplotlib\n",
        "plt.figure(figsize=(8,6))\n",
        "plt.pie(top_products['Quantity'], labels=top_products['Description'], autopct='%1.1f%%', startangle=90)\n",
        "\n",
        "# Set the title\n",
        "plt.title('Top 5 Products in the United Kingdom')\n",
        "\n",
        "# Show the plot\n",
        "plt.show()"
      ],
      "metadata": {
        "id": "mAQTIvtqp1cj"
      },
      "execution_count": null,
      "outputs": []
    },
    {
      "cell_type": "code",
      "source": [],
      "metadata": {
        "id": "j3bSe7nyHijA"
      },
      "execution_count": null,
      "outputs": []
    },
    {
      "cell_type": "markdown",
      "source": [
        "#### Chart - 12"
      ],
      "metadata": {
        "id": "n3dbpmDWp1ck"
      }
    },
    {
      "cell_type": "code",
      "source": [
        "# Chart - 12 visualization code\n",
        "# Filter the data for sales in Germany\n",
        "germany_sales = customer_data_df[customer_data_df['Country'] == 'Germany']\n",
        "# Group the data by product description and sum the quantity sold\n",
        "product_sales = germany_sales.groupby('Description')['Quantity'].sum().reset_index()\n",
        "# Sort the products by sales and get the top 5\n",
        "top_products = product_sales.sort_values('Quantity', ascending=False).head(5)\n",
        "# Create a bar chart with matplotlib\n",
        "plt.figure(figsize=(8,10))\n",
        "plt.pie(top_products['Quantity'], labels=top_products['Description'], autopct='%1.1f%%', startangle=90)\n",
        "# Set the title and labels\n",
        "plt.title('Top 5 Products in Germany')\n",
        "plt.show()\n"
      ],
      "metadata": {
        "id": "bwevp1tKp1ck"
      },
      "execution_count": null,
      "outputs": []
    },
    {
      "cell_type": "markdown",
      "source": [
        "#### Chart - 13"
      ],
      "metadata": {
        "id": "Ag9LCva-p1cl"
      }
    },
    {
      "cell_type": "code",
      "source": [
        "# Chart - 13 visualization code\n",
        "# Filter the data for sales in France\n",
        "France_sales = customer_data_df[customer_data_df['Country'] == 'France']\n",
        "# Group the data by product description and sum the quantity sold\n",
        "product_sales = France_sales.groupby('Description')['Quantity'].sum().reset_index()\n",
        "# Sort the products by sales and get the top 5\n",
        "top_products = product_sales.sort_values('Quantity', ascending=False).head(5)\n",
        "# Create a bar chart with matplotlib\n",
        "plt.figure(figsize=(8,7))\n",
        "plt.pie(top_products['Quantity'], labels=top_products['Description'], autopct='%1.1f%%', startangle=90)\n",
        "# Set the title and labels\n",
        "plt.title('Top 5 Products in France')\n",
        "plt.show()"
      ],
      "metadata": {
        "id": "EUfxeq9-p1cl"
      },
      "execution_count": null,
      "outputs": []
    },
    {
      "cell_type": "markdown",
      "source": [
        "#### Chart - 14 - Correlation Heatmap"
      ],
      "metadata": {
        "id": "NC_X3p0fY2L0"
      }
    },
    {
      "cell_type": "code",
      "source": [
        "# Correlation Heatmap visualization code\n",
        "plt.figure(figsize=(10,5))\n",
        "\n",
        "correlation = customer_data_df.corr().round(2)\n",
        "sns.heatmap(abs(correlation), annot=True, cmap='coolwarm')"
      ],
      "metadata": {
        "id": "xyC9zolEZNRQ"
      },
      "execution_count": null,
      "outputs": []
    },
    {
      "cell_type": "markdown",
      "source": [
        "## ***6. Feature Engineering & Data Pre-processing***"
      ],
      "metadata": {
        "id": "yLjJCtPM0KBk"
      }
    },
    {
      "cell_type": "markdown",
      "source": [
        "### **HANDLING OUTLIERS**"
      ],
      "metadata": {
        "id": "YXP0qncad-AJ"
      }
    },
    {
      "cell_type": "code",
      "source": [
        "# Handling Outliers & Outlier treatments\n",
        "\n",
        "sns.boxplot(customer_data_df['TotalCost'])"
      ],
      "metadata": {
        "id": "M6w2CzZf04JK"
      },
      "execution_count": null,
      "outputs": []
    },
    {
      "cell_type": "code",
      "source": [
        "def remove_outliers_iqr(customer_data_df, TotalCost, threshold=1.5):\n",
        "    Q1 = customer_data_df['TotalCost'].quantile(0.25)\n",
        "    Q3 = customer_data_df['TotalCost'].quantile(0.75)\n",
        "    IQR = Q3 - Q1\n",
        "\n",
        "    lower_bound = Q1 - threshold * IQR\n",
        "    upper_bound = Q3 + threshold * IQR\n",
        "\n",
        "    df_no_outliers = customer_data_df[(customer_data_df['TotalCost'] >= lower_bound) & (customer_data_df['TotalCost'] <= upper_bound)]\n",
        "    return df_no_outliers\n",
        "\n",
        "# Remove outliers using IQR for column 'A' with a threshold of 1.5\n",
        "df_no_outliers = remove_outliers_iqr(customer_data_df, 'TotalCost')\n",
        "\n",
        "print(\"Original DataFrame:\")\n",
        "print(customer_data_df)\n",
        "print(\"\\nDataFrame with outliers removed:\")\n",
        "print(df_no_outliers)"
      ],
      "metadata": {
        "id": "bTdMd-Jwx28r"
      },
      "execution_count": null,
      "outputs": []
    },
    {
      "cell_type": "markdown",
      "source": [
        "### Textual Data Preprocessing\n",
        "(It's mandatory for textual dataset i.e., NLP, Sentiment Analysis, Text Clustering etc.)"
      ],
      "metadata": {
        "id": "Iwf50b-R2tYG"
      }
    },
    {
      "cell_type": "markdown",
      "source": [
        "REMOVE PUNCTUATIONS"
      ],
      "metadata": {
        "id": "UDxpYXZ-eVuG"
      }
    },
    {
      "cell_type": "code",
      "source": [
        "# Remove Punctuations\n",
        "\n",
        "def remove_punctuation(text):\n",
        "    '''a function for removing punctuation'''\n",
        "    import string\n",
        "    # replacing the punctuations with no space,\n",
        "    # which in effect deletes the punctuation marks\n",
        "    translator = str.maketrans('', '', string.punctuation)\n",
        "    # return the text stripped of punctuation marks\n",
        "    return text.translate(translator)"
      ],
      "metadata": {
        "id": "vqbBqNaA33c0"
      },
      "execution_count": null,
      "outputs": []
    },
    {
      "cell_type": "code",
      "source": [
        "customer_data_df['Description'] = customer_data_df['Description'].apply(remove_punctuation)\n",
        "customer_data_df.head()"
      ],
      "metadata": {
        "id": "uGfL0V3q-vsf"
      },
      "execution_count": null,
      "outputs": []
    },
    {
      "cell_type": "markdown",
      "source": [
        "#### Removing URLs & Removing words and digits contain digits."
      ],
      "metadata": {
        "id": "Hlsf0x5436Go"
      }
    },
    {
      "cell_type": "code",
      "source": [
        "import re\n",
        "# Remove URLs & Remove words and digits contain digits\n",
        "def remove_urls_and_digits(text):\n",
        "    # Remove URLs using regex\n",
        "    text = re.sub(r'http\\S+|www\\.\\S+', '', text)\n",
        "\n",
        "    # Remove words containing digits using regex\n",
        "    text = re.sub(r'\\w*\\d\\w*', '', text)\n",
        "\n",
        "    return text"
      ],
      "metadata": {
        "id": "2sxKgKxu4Ip3"
      },
      "execution_count": null,
      "outputs": []
    },
    {
      "cell_type": "code",
      "source": [
        "customer_data_df['Description'] = customer_data_df['Description'].apply(remove_urls_and_digits)\n",
        "customer_data_df.head(2)"
      ],
      "metadata": {
        "id": "FXwrdGLOA-Mr"
      },
      "execution_count": null,
      "outputs": []
    },
    {
      "cell_type": "markdown",
      "source": [
        "#### Removing Stopwords & Removing White spaces"
      ],
      "metadata": {
        "id": "mT9DMSJo4nBL"
      }
    },
    {
      "cell_type": "code",
      "source": [
        "# Remove Stopwords\n",
        "from nltk.corpus import stopwords\n",
        "import nltk\n",
        "nltk.download('stopwords')"
      ],
      "metadata": {
        "id": "T2LSJh154s8W"
      },
      "execution_count": null,
      "outputs": []
    },
    {
      "cell_type": "code",
      "source": [
        "# extracting the stopwords from nltk library\n",
        "sw = stopwords.words('english')\n",
        "# displaying the stopwords\n",
        "np.array(sw)"
      ],
      "metadata": {
        "id": "3OZ0pgnQBeC0"
      },
      "execution_count": null,
      "outputs": []
    },
    {
      "cell_type": "code",
      "source": [
        "def stopwords(text):\n",
        "    '''a function for removing the stopword'''\n",
        "    # removing the stop words and lowercasing the selected words\n",
        "    text = [word.lower() for word in text.split() if word.lower() not in sw]\n",
        "    # joining the list of words with space separator\n",
        "    return \" \".join(text)"
      ],
      "metadata": {
        "id": "ktPXLlneCJHv"
      },
      "execution_count": null,
      "outputs": []
    },
    {
      "cell_type": "code",
      "source": [
        "customer_data_df['Description'] =customer_data_df['Description'].apply(stopwords)\n",
        "customer_data_df.head(2)"
      ],
      "metadata": {
        "id": "CcXUrmykCLWK"
      },
      "execution_count": null,
      "outputs": []
    },
    {
      "cell_type": "markdown",
      "source": [
        "#### Tokenization"
      ],
      "metadata": {
        "id": "OeJFEK0N496M"
      }
    },
    {
      "cell_type": "code",
      "source": [
        "import pandas as pd\n",
        "import nltk\n",
        "from nltk.tokenize import word_tokenize\n",
        "\n",
        "# Download NLTK data (if not already downloaded)\n",
        "nltk.download('punkt')\n",
        "\n",
        "# Tokenize the 'text_column'\n",
        "customer_data_df['tokenized_text'] = customer_data_df['Description'].apply(lambda x: word_tokenize(x))\n",
        "customer_data_df.head(2)\n"
      ],
      "metadata": {
        "id": "iPBhWw_FDshJ"
      },
      "execution_count": null,
      "outputs": []
    },
    {
      "cell_type": "markdown",
      "source": [
        "#### Text Normalization"
      ],
      "metadata": {
        "id": "9ExmJH0g5HBk"
      }
    },
    {
      "cell_type": "code",
      "source": [
        "from nltk.stem.snowball import SnowballStemmer\n",
        "# Normalizing Text (i.e., Stemming, Lemmatization etc.)\n",
        "# create an object of stemming function\n",
        "stemmer = SnowballStemmer(\"english\")\n",
        "\n",
        "def stemming(text):\n",
        "    '''a function which stems each word in the given text'''\n",
        "    text = [stemmer.stem(word) for word in text.split()]\n",
        "    return \" \".join(text)"
      ],
      "metadata": {
        "id": "AIJ1a-Zc5PY8"
      },
      "execution_count": null,
      "outputs": []
    },
    {
      "cell_type": "code",
      "source": [
        "customer_data_df['Description'] = customer_data_df['Description'].apply(stemming)\n",
        "customer_data_df.head(2)"
      ],
      "metadata": {
        "id": "_Ut_jJmAFRxo"
      },
      "execution_count": null,
      "outputs": []
    },
    {
      "cell_type": "markdown",
      "source": [
        "#### Part of speech tagging"
      ],
      "metadata": {
        "id": "k5UmGsbsOxih"
      }
    },
    {
      "cell_type": "code",
      "source": [
        "# POS Taging\n",
        "from nltk import word_tokenize, pos_tag\n",
        "nltk.download('averaged_perceptron_tagger')\n",
        "\n",
        "customer_data_df['pos_tags'] = customer_data_df['Description'].apply(lambda x: pos_tag(word_tokenize(x)))\n",
        "customer_data_df.head(2)"
      ],
      "metadata": {
        "id": "btT3ZJBAO6Ik"
      },
      "execution_count": null,
      "outputs": []
    },
    {
      "cell_type": "markdown",
      "source": [
        "#### Text Vectorization"
      ],
      "metadata": {
        "id": "T0VqWOYE6DLQ"
      }
    },
    {
      "cell_type": "code",
      "source": [
        "from sklearn.feature_extraction.text import CountVectorizer, TfidfVectorizer\n",
        "tfidf_vectorizer = TfidfVectorizer()\n",
        "tfidf_vectorizer.fit(customer_data_df)\n",
        "\n"
      ],
      "metadata": {
        "id": "D3XHrfzZJlbP"
      },
      "execution_count": null,
      "outputs": []
    },
    {
      "cell_type": "code",
      "source": [
        "# Vectorizing Text\n",
        "\n",
        "# extract the tfid representation matrix of the text data\n",
        "tfid_matrix = tfidf_vectorizer.transform(customer_data_df['Description'].values.astype('U'))\n",
        "# collect the tfid matrix in numpy array\n",
        "array = tfid_matrix.todense()"
      ],
      "metadata": {
        "id": "yBRtdhth6JDE"
      },
      "execution_count": null,
      "outputs": []
    },
    {
      "cell_type": "code",
      "source": [
        "df = pd.DataFrame(array)\n",
        "df.head(2)"
      ],
      "metadata": {
        "id": "YdiAmR7ZInce"
      },
      "execution_count": null,
      "outputs": []
    },
    {
      "cell_type": "markdown",
      "source": [
        "### 4. Feature Manipulation & Selection"
      ],
      "metadata": {
        "id": "-oLEiFgy-5Pf"
      }
    },
    {
      "cell_type": "markdown",
      "source": [
        "#### 1. Feature Manipulation"
      ],
      "metadata": {
        "id": "C74aWNz2AliB"
      }
    },
    {
      "cell_type": "code",
      "source": [
        "# Manipulate Features to minimize feature correlation and create new features\n",
        "\n",
        "from statsmodels.stats.outliers_influence import variance_inflation_factor\n",
        "def calc_vif(X):\n",
        "\n",
        "    # Calculating VIF\n",
        "    vif = pd.DataFrame()\n",
        "    vif[\"variables\"] = X.columns\n",
        "    vif[\"VIF\"] = [variance_inflation_factor(X.values, i) for i in range(X.shape[1])]\n",
        "\n",
        "    return(vif)"
      ],
      "metadata": {
        "id": "h1qC4yhBApWC"
      },
      "execution_count": null,
      "outputs": []
    },
    {
      "cell_type": "markdown",
      "source": [
        "#### 2. Feature Selection"
      ],
      "metadata": {
        "id": "2DejudWSA-a0"
      }
    },
    {
      "cell_type": "code",
      "source": [
        "# Select your features wisely to avoid overfitting\n",
        "\n",
        "calc_vif(customer_data_df[[i for i in customer_data_df.describe().columns if i in ['Description','Quantity','UnitPrice','TotalCost','Country']]])"
      ],
      "metadata": {
        "id": "YLhe8UmaBCEE"
      },
      "execution_count": null,
      "outputs": []
    },
    {
      "cell_type": "markdown",
      "source": [
        "## Data Splitting & Scaling"
      ],
      "metadata": {
        "id": "ZKr75IDuEM7t"
      }
    },
    {
      "cell_type": "code",
      "source": [
        "# Split your data to train and test. Choose Splitting ratio wisely.\n",
        "\n",
        "features = list(customer_data_df.columns.drop(['CustomerID', 'day_number','Minute','Hour','StockCode','Description','Country','InvoiceDate','Monthname','DayOfWeek','timecategory','Day','tokenized_text', 'pos_tags']))\n",
        "target  = 'TotalCost'\n",
        "\n",
        "X = customer_data_df[features].values\n",
        "y = customer_data_df[target].values\n",
        "\n",
        "X_train, X_test, y_train, y_test = train_test_split(X, y, test_size = 0.3, random_state=17)\n",
        "\n",
        "print(\"The dimension of X train is {}\".format(X_train.shape))\n",
        "print(\"The dimension of X test is {}\".format(X_test.shape))\n",
        "print(\"The dimension of y train is {}\".format(y_train.shape))\n",
        "print(\"The dimension of y test is {}\".format(y_test.shape))\n",
        "\n",
        "#SCALING\n",
        "scaler= StandardScaler()\n",
        "X_train = scaler.fit_transform(X_train)\n",
        "X_test = scaler.transform(X_test)"
      ],
      "metadata": {
        "id": "0CTyd2UwEyNM"
      },
      "execution_count": null,
      "outputs": []
    },
    {
      "cell_type": "markdown",
      "source": [
        "## ***7. ML Model Implementation***"
      ],
      "metadata": {
        "id": "VfCC591jGiD4"
      }
    },
    {
      "cell_type": "markdown",
      "source": [
        "### ML Model - 1\n",
        "## **RFM MODEL**"
      ],
      "metadata": {
        "id": "OB4l2ZhMeS1U"
      }
    },
    {
      "cell_type": "code",
      "source": [],
      "metadata": {
        "id": "7ebyywQieS1U"
      },
      "execution_count": null,
      "outputs": []
    },
    {
      "cell_type": "code",
      "source": [],
      "metadata": {
        "id": "QR5qGjQMcsUx"
      },
      "execution_count": null,
      "outputs": []
    },
    {
      "cell_type": "code",
      "source": [],
      "metadata": {
        "id": "4OQ7ECyOe5OC"
      },
      "execution_count": null,
      "outputs": []
    },
    {
      "cell_type": "code",
      "source": [],
      "metadata": {
        "id": "RK2NZ3vZfBBR"
      },
      "execution_count": null,
      "outputs": []
    },
    {
      "cell_type": "code",
      "source": [],
      "metadata": {
        "id": "Gs0t1-tGfHBz"
      },
      "execution_count": null,
      "outputs": []
    },
    {
      "cell_type": "code",
      "source": [],
      "metadata": {
        "id": "PKD6V7VmfROU"
      },
      "execution_count": null,
      "outputs": []
    },
    {
      "cell_type": "code",
      "source": [],
      "metadata": {
        "id": "QSuuj8bVf7Wb"
      },
      "execution_count": null,
      "outputs": []
    },
    {
      "cell_type": "markdown",
      "source": [
        "### **CREATING RFM SEGMENTS**"
      ],
      "metadata": {
        "id": "1477mQR2gX8-"
      }
    },
    {
      "cell_type": "code",
      "source": [],
      "metadata": {
        "id": "Ej0YZJGTgtZk"
      },
      "execution_count": null,
      "outputs": []
    },
    {
      "cell_type": "code",
      "source": [],
      "metadata": {
        "id": "bh2uEFvfgsV2"
      },
      "execution_count": null,
      "outputs": []
    },
    {
      "cell_type": "code",
      "source": [],
      "metadata": {
        "id": "Dy61ujd6fxKe"
      },
      "execution_count": null,
      "outputs": []
    },
    {
      "cell_type": "code",
      "source": [],
      "metadata": {
        "id": "VvlfCg6wfM9j"
      },
      "execution_count": null,
      "outputs": []
    },
    {
      "cell_type": "code",
      "source": [],
      "metadata": {
        "id": "yEl-hgQWpsJ1"
      },
      "execution_count": null,
      "outputs": []
    },
    {
      "cell_type": "code",
      "source": [],
      "metadata": {
        "id": "I0nMJ-Cr2tUV"
      },
      "execution_count": null,
      "outputs": []
    },
    {
      "cell_type": "code",
      "source": [],
      "metadata": {
        "id": "oVIrwXriiUyQ"
      },
      "execution_count": null,
      "outputs": []
    },
    {
      "cell_type": "code",
      "source": [],
      "metadata": {
        "id": "Khqs9T5hiarU"
      },
      "execution_count": null,
      "outputs": []
    },
    {
      "cell_type": "code",
      "source": [],
      "metadata": {
        "id": "9bixmEX8bfiJ"
      },
      "execution_count": null,
      "outputs": []
    },
    {
      "cell_type": "markdown",
      "source": [
        "### ML MODEL 2\n",
        "# **SILHOUTTE SCORE METHOD ON RECENCY & MONETARY**"
      ],
      "metadata": {
        "id": "P_NqTAvhbB9y"
      }
    },
    {
      "cell_type": "code",
      "source": [],
      "metadata": {
        "id": "8m4eGqBu27C9"
      },
      "execution_count": null,
      "outputs": []
    },
    {
      "cell_type": "markdown",
      "source": [
        "# ML MODEL 3\n",
        "#**ELBOW METHOD ON RECENCY AND MONETARY**"
      ],
      "metadata": {
        "id": "9LSumYAfc6bg"
      }
    },
    {
      "cell_type": "code",
      "source": [],
      "metadata": {
        "id": "hzb3NwNK3AWn"
      },
      "execution_count": null,
      "outputs": []
    },
    {
      "cell_type": "code",
      "source": [],
      "metadata": {
        "id": "kS6j7W-7dT-W"
      },
      "execution_count": null,
      "outputs": []
    },
    {
      "cell_type": "code",
      "source": [],
      "metadata": {
        "id": "ICVya-hNdXLZ"
      },
      "execution_count": null,
      "outputs": []
    },
    {
      "cell_type": "markdown",
      "source": [
        "### ***Congrats! Your model is successfully created and ready for deployment on a live server for a real user interaction !!!***"
      ],
      "metadata": {
        "id": "-Kee-DAl2viO"
      }
    },
    {
      "cell_type": "markdown",
      "source": [
        "# **Conclusion**"
      ],
      "metadata": {
        "id": "gCX9965dhzqZ"
      }
    },
    {
      "cell_type": "markdown",
      "source": [
        "Write the conclusion here."
      ],
      "metadata": {
        "id": "Fjb1IsQkh3yE"
      }
    },
    {
      "cell_type": "markdown",
      "source": [
        "### ***Hurrah! You have successfully completed your Machine Learning Capstone Project !!!***"
      ],
      "metadata": {
        "id": "gIfDvo9L0UH2"
      }
    }
  ]
}